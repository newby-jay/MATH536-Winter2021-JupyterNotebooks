{
 "cells": [
  {
   "cell_type": "code",
   "execution_count": 1,
   "metadata": {},
   "outputs": [
    {
     "name": "stdout",
     "output_type": "stream",
     "text": [
      "Populating the interactive namespace from numpy and matplotlib\n"
     ]
    }
   ],
   "source": [
    "%pylab inline\n",
    "%config InlineBackend.figure_format = 'retina'\n",
    "from ipywidgets import interact"
   ]
  },
  {
   "cell_type": "markdown",
   "metadata": {},
   "source": [
    "# Arrays, grids, and matrices\n",
    "Clearly these are all related concepts. An array is a data structure on a computer. A (2D) grid is a discretized solution to a 2D PDE (elliptic for the purposes of this conversation). A matrix is a mathematical representation of a certain kind of linear operator. The way we notationally use these three things can lead to confusion. \n",
    "\n",
    "For example, a grid is written as $U_{ij}$ and the elements of a matrix might be written $a_{ij}$. However, for the grid, the second index points moves along a 'row' of the grid whereas it moves along the columns of a matrix. Why define things this way if it is confusing? I think the reason to define a grid this way is that we want to write $U_{ij} = u(x_i, y_j)$; we naturally want the ordering of the indices to match the independent variables ($i$ first and $j$ second matching $x$ first and $y$ second). We want $x$ to be the horizontal dimension and $y$ to be the virtical dimension. It is simply a convention that conflicts with the way we represent matrices. We could easily write the solution to our PDE as $u(y, x)$, which would make everything consistent, but this is apparently too strange. \n",
    "\n",
    "One of the key differences between arrays and matrices is that matrices almost always index starting at $i=1$, $j=1$ (this is not necessary of course, we could index matrices starting from any integer). On the other hand, with the exception of Matlab, virtually every programming language starts indexes into arrays from zero. Grids usually are indexed starting from zero, but this is not as consistent as the convention for matrices.\n",
    "\n",
    "Matrices are fundamentally two dimensional (ie they have two indices $i, j$) while arrays and grids can by any dimension. Mathematically, we know that the formulation of linear algebra with matrices and vectors is very general and applies to any finite dimensional vector space. In other words, we can always map our higher dimensional operators to matrices and grids to vectors. We see this in our numerical methods. We might think of the finite difference operator as a 4D operator (with four indices) acting on a 2D grid function (with two indices). However, we convert these into a matrix operator and a vector. We stack each grid row into a single column vector, and we create a 'banded' matrix representing the 2D finite difference operator."
   ]
  },
  {
   "cell_type": "markdown",
   "metadata": {},
   "source": [
    "# 'Container' type data structures\n",
    "Much of the difficulty in coding when it comes to scientific computing—whether it is 'data science' or numerical PDEs—stems from using container type data structurs. The simplest kind is an array. Arrays are so simples because each element is a chunk of data that has the same size (same number of bytes). An array is three things: a starting point in memory (a 'pointer' memory address), the size of each element in bytes, and the total number of elements. To find the $i$th element, you go to the start point in memory and skip ahead by $iS$ bytes, where $S$ is the size of each element. \n",
    "\n",
    "This is a **direct access** data structure, meaning that we can read any element we want without reading the preceeding elements (think a casset/VHS tape vs a record). When playing a record, we can place the needle where we want and start playing any song at any point within the song. When playing a casset tape, we have to 'fast forward' or 'rewind' to the spot we want to start playing at.\n",
    "\n",
    "Arrays can be inconvenient for two reasons:\n",
    "  1. We need to know the size of the array ahead of time, when we initialize the array, before we can use it\n",
    "  2. They require every element to have the same number of bytes\n",
    "  3. Elements that do not contain important information (e.g., a zero value in a sparse array) must occupy space in memory\n",
    "  \n",
    "This creates practical constraints that are annoying. For example, this means we cannot add more elements (or remove elements) to an array after it is created. We cannot combine a set of 1D arrays, each having a different length, into a 2D array. If we have a large tridiagonal matrix, with roughly $3n$ nonzero elements, we must reserve enough memory for $n^2$ elements, even though most of these elements are zero and do not need to be stored.\n",
    "\n",
    "Many other 'container' data structers exist that allow you to dynamically add or remove items (e.g., within in a loop), allow you to have variable size elements and/or elements of different data types. However, there are downsides to each of them if they are not used properly. They are often slower. They often require complicated memory management in the background that can get messed up. Their memory usage might not scale very well with the total number of data elements (in the case of dynamic structures that can be resized after they are created).\n",
    "\n",
    "The standard language that allows for detailed control over data structures and memory is C++."
   ]
  },
  {
   "cell_type": "code",
   "execution_count": 10,
   "metadata": {},
   "outputs": [
    {
     "name": "stdout",
     "output_type": "stream",
     "text": [
      "[0. 0. 0. 0. 0. 0. 0. 0. 0. 0.]\n"
     ]
    }
   ],
   "source": [
    "N = 10 # number of elements in the array\n",
    "a = zeros(N, dtype=float64) # an array of zeros, with the optional argument 'dtype' (float64 is the default)\n",
    "## for a float64, the size of each element in bytes is 8 (8 bits in a byte means 8*8 = 64 bits)\n",
    "print(a)\n",
    "a[0] = 1.\n",
    "a[N-1] = 1."
   ]
  },
  {
   "cell_type": "code",
   "execution_count": 11,
   "metadata": {},
   "outputs": [
    {
     "ename": "IndexError",
     "evalue": "index 10 is out of bounds for axis 0 with size 10",
     "output_type": "error",
     "traceback": [
      "\u001b[0;31m---------------------------------------------------------------------------\u001b[0m",
      "\u001b[0;31mIndexError\u001b[0m                                Traceback (most recent call last)",
      "\u001b[0;32m<ipython-input-11-6b5fd9351440>\u001b[0m in \u001b[0;36m<module>\u001b[0;34m\u001b[0m\n\u001b[1;32m      1\u001b[0m \u001b[0;31m## Now what if we try to add an element to the array\u001b[0m\u001b[0;34m\u001b[0m\u001b[0;34m\u001b[0m\u001b[0;34m\u001b[0m\u001b[0m\n\u001b[0;32m----> 2\u001b[0;31m \u001b[0ma\u001b[0m\u001b[0;34m[\u001b[0m\u001b[0mN\u001b[0m\u001b[0;34m]\u001b[0m \u001b[0;34m=\u001b[0m \u001b[0;36m2.\u001b[0m\u001b[0;34m\u001b[0m\u001b[0;34m\u001b[0m\u001b[0m\n\u001b[0m",
      "\u001b[0;31mIndexError\u001b[0m: index 10 is out of bounds for axis 0 with size 10"
     ]
    }
   ],
   "source": [
    "## Now what if we try to add an element to the array\n",
    "a[N] = 2."
   ]
  },
  {
   "cell_type": "code",
   "execution_count": 22,
   "metadata": {},
   "outputs": [
    {
     "name": "stdout",
     "output_type": "stream",
     "text": [
      "[1.0, 0.0, 0.0, 0.0, 0.0, 0.0, 0.0, 0.0, 0.0, 1.0]\n",
      "[1.0, 0.0, 0.0, 0.0, 0.0, 0.0, 0.0, 0.0, 0.0, 1.0, 2.0]\n",
      "10 10 11\n"
     ]
    }
   ],
   "source": [
    "## Lists are dynamic containers\n",
    "alist = list(a) ## copy the data from the array into a new list\n",
    "print(alist)\n",
    "alist.append(2.) ## add a new element to the end of the array\n",
    "print(alist)\n",
    "print(N, a.size, len(alist))"
   ]
  },
  {
   "cell_type": "code",
   "execution_count": 23,
   "metadata": {},
   "outputs": [],
   "source": [
    "## other data types\n",
    "a32 = zeros(N, dtype=float32) ## half the number of bytes (S=2) per element (and half the precision)\n",
    "a_int64 = zeros(N, dtype=int64) ## 64 bit integers ie integer values in [-2^64/2, 2^64/2] (roughly)\n",
    "a_uint8 = zeros(N, dtype=uint8) ## 8 bit (1 byte) non negative integers, in [0, 255]"
   ]
  },
  {
   "cell_type": "markdown",
   "metadata": {},
   "source": [
    "# Sparse arrays in Python\n",
    "TBD"
   ]
  },
  {
   "cell_type": "markdown",
   "metadata": {},
   "source": [
    "# Interior layer solutions\n",
    " $$ \\epsilon u'' + u(u' - 1) = 0, \\quad u(0)=\\alpha,\\; u(1) = \\beta$$\n",
    " ## Outer solution ($\\epsilon=0$)\n",
    " $$ u_{\\rm out}(x) = x + C $$"
   ]
  },
  {
   "cell_type": "code",
   "execution_count": 53,
   "metadata": {},
   "outputs": [
    {
     "data": {
      "application/vnd.jupyter.widget-view+json": {
       "model_id": "f91026feba9b4ff385ce41534f8215e6",
       "version_major": 2,
       "version_minor": 0
      },
      "text/plain": [
       "interactive(children=(FloatSlider(value=0.1, description='epsilon', max=0.1, min=0.01, step=0.01), Output()), …"
      ]
     },
     "metadata": {},
     "output_type": "display_data"
    }
   ],
   "source": [
    "epsilon = 0.01\n",
    "a = 0.\n",
    "b = 1.\n",
    "alpha = -1.\n",
    "beta = 1.5\n",
    "x = linspace(a, b, 200)\n",
    "u_outer_a = x - a + alpha\n",
    "u_outer_b = x - b + beta\n",
    "A = 0.5*(a - b - (alpha - beta))\n",
    "C = 0.5*(alpha + beta - (a + b))\n",
    "u_outer = x + C\n",
    "xbar = -C\n",
    "\n",
    "@interact(epsilon=(0.01, 0.1, 0.01))\n",
    "def plotfn(epsilon=0.1):\n",
    "    U = A*tanh(A*(x - xbar)/2./epsilon)\n",
    "    figure(1, [7, 5])\n",
    "    plot(x, u_outer_a)\n",
    "    plot(x, u_outer_b)\n",
    "    plot(x, u_outer + U)\n",
    "    xlabel(r'$x$', fontsize=24)\n",
    "    ylabel(r'$u$', fontsize=24);"
   ]
  },
  {
   "cell_type": "markdown",
   "metadata": {},
   "source": [
    "# Grid mapping function\n",
    "Start with a uniform grid $z_i$ on $[0, 1]$. Define a *grid mapping function* $X(z): [0, 1] \\to [0, 1]$ which should be continuous and strictly increasing with $X(0) = 0$ and $X(1) = 1$ (i.e., a bijection). Then the new grid is given by\n",
    "    $$x_i = a + (b-a)X(z_i)$$"
   ]
  },
  {
   "cell_type": "code",
   "execution_count": 49,
   "metadata": {},
   "outputs": [
    {
     "data": {
      "image/png": "[encoded data removed]",
      "text/plain": [
       "<Figure size 504x360 with 1 Axes>"
      ]
     },
     "metadata": {
      "image/png": {
       "height": 331,
       "width": 457
      },
      "needs_background": "light"
     },
     "output_type": "display_data"
    }
   ],
   "source": [
    "z = linspace(0, 1, 10)\n",
    "\n",
    "X = 4.*(z - 0.5)**3 + 0.5\n",
    "\n",
    "figure(1, [7, 5])\n",
    "plot(z, X, '-o')\n",
    "plot(z, 0*z, 'xk')\n",
    "plot(0*X, X, 'xk')\n",
    "xlabel(r'$z$', fontsize=24)\n",
    "ylabel(r'$x$', fontsize=24);"
   ]
  },
  {
   "cell_type": "code",
   "execution_count": null,
   "metadata": {},
   "outputs": [],
   "source": []
  }
 ],
 "metadata": {
  "kernelspec": {
   "display_name": "Python 3",
   "language": "python",
   "name": "python3"
  },
  "language_info": {
   "codemirror_mode": {
    "name": "ipython",
    "version": 3
   },
   "file_extension": ".py",
   "mimetype": "text/x-python",
   "name": "python",
   "nbconvert_exporter": "python",
   "pygments_lexer": "ipython3",
   "version": "3.7.3"
  }
 },
 "nbformat": 4,
 "nbformat_minor": 2
}
