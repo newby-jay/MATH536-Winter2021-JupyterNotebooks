{
 "cells": [
  {
   "cell_type": "code",
   "execution_count": 3,
   "metadata": {},
   "outputs": [
    {
     "name": "stdout",
     "output_type": "stream",
     "text": [
      "Populating the interactive namespace from numpy and matplotlib\n"
     ]
    }
   ],
   "source": [
    "%pylab inline\n",
    "%config InlineBackend.figure_format = 'retina'\n",
    "from ipywidgets import interact"
   ]
  },
  {
   "cell_type": "markdown",
   "metadata": {},
   "source": [
    "## Instructions for the midterm\n",
    "\n",
    "  - You must access this exam through SEM\n",
    "  - No websites, no book, no notes\n",
    "  - No computer algebra software\n",
    "  - No Python, Matlab, etc\n",
    "  - You will have 80 minutes, after which you will begin the proceedure for turning in your work to Assign2\n",
    "  - Use the full 80 minutes, if you want, to work on the questions\n",
    "  - You have 10 additional minutes to turn the exam in to Assign2\n",
    "  - You may use theorems that are outside the main scope of the course (e.g., the Fredholm Alternative Theorem) unless the instructions state otherwise"
   ]
  },
  {
   "cell_type": "markdown",
   "metadata": {},
   "source": [
    "# Q1 \n",
    "Consider the boundary value problem  \n",
    "$$ u''(x) = f(x), \\quad x \\in (a, b),$$\n",
    "with Dirichlet boundary conditions\n",
    "$$ u(a) = \\alpha, \\qquad u(b) = \\beta. $$\n",
    "Discretize the interval $(a, b)$ into $m+2$ equally spaced points $x_j$, $j=0, 1, \\ldots, m+1$. The separation between points is $h = 1/(m+1)$. \n",
    "\n",
    "Let $U_j$ be an approximation of $\\tilde U_j = u(x_j)$ such that $U_0 = u(a) = \\alpha$ and $U_{m+1} = u(b) = \\beta$. The unknown portion of the numerical approximation $U_j$, at $j = 1, \\ldots m$, satisfies\n",
    "$$ \\frac{1}{h^2}(U_{j-1} - 2 U_j + U_{j+1}) = f(x_j).$$\n",
    "\n",
    "Let $\\Vert \\cdot \\Vert_{2h}$ be the $L^2_h$ grid norm (recall the $L^2_h$ and $l^2$ norms are related by $\\Vert \\cdot \\Vert_{2h} = \\sqrt{h}\\Vert \\cdot \\Vert_2$). Show that $\\Vert U - \\tilde U \\Vert_{2h} = O(h^2)$ as $h\\to 0^+$."
   ]
  },
  {
   "cell_type": "markdown",
   "metadata": {},
   "source": [
    "# Q2\n",
    "Let $f(x)$ be infinitely differentiable on a neighbourhood containing $x=a$. Derive a general formula for a $p$th order accurate finite difference approximation for $f^{(k)}(a)$."
   ]
  },
  {
   "cell_type": "markdown",
   "metadata": {},
   "source": [
    "# Q3\n",
    "Consider the elliptic PDE $ \\nabla^2 u = f(x, y) $, with homogeneous Dirichlet boundary conditions on the unit square.\n",
    "Discretize the interval $(0, 1)$ into $m+2$ equally spaced points $x_j$, $j=0, 1, \\ldots, m+1$. The separation between points is $h = 1/(m+1)$.\n",
    "The 5-point stencil applied to the problem, with equal spacing in $x$ and $y$, is given by $$ \\frac{1}{h^2}\\left(u_{i, j-1} + u_{i-1, j} - 4u_{ij} + u_{i+1, j} + u_{i,j+1}\\right) = f_{ij},$$\n",
    "for $i=1,\\ldots, m$ and $j=1,\\ldots, m$.\n",
    "\n",
    "Reformulate the equation for the unknown values of $U_j$ as a linear system of equations in matrix form (i.e., $AU = F$). Make sure to specify the shape and structure of the matrix $A$, the unknown vector $U$, and the right hand side $F$.\n"
   ]
  },
  {
   "cell_type": "markdown",
   "metadata": {},
   "source": [
    "# Q4\n",
    "Describe in detail (but without actual code) an algorithm for solving \n",
    "$$ \\frac{d^2 u}{dx^2} + f(\\frac{du}{dx}) = 0, \\quad x\\in (a, b), $$\n",
    "with homogeneous Dirichlet boundary conditions $u(a)=u(b)=0$. You may assume that $f$ is a sufficiently smooth and bounded function."
   ]
  }
 ],
 "metadata": {
  "kernelspec": {
   "display_name": "Python 3",
   "language": "python",
   "name": "python3"
  },
  "language_info": {
   "codemirror_mode": {
    "name": "ipython",
    "version": 3
   },
   "file_extension": ".py",
   "mimetype": "text/x-python",
   "name": "python",
   "nbconvert_exporter": "python",
   "pygments_lexer": "ipython3",
   "version": "3.7.3"
  }
 },
 "nbformat": 4,
 "nbformat_minor": 2
}
